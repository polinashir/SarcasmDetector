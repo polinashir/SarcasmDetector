{
 "cells": [
  {
   "cell_type": "markdown",
   "id": "5b80627b",
   "metadata": {},
   "source": [
    "Importations"
   ]
  },
  {
   "cell_type": "code",
   "execution_count": 1,
   "id": "52e00055",
   "metadata": {},
   "outputs": [],
   "source": [
    "import json\n",
    "import string\n",
    "import tensorflow as tf\n",
    "import pandas as pd\n",
    "from keras.preprocessing.sequence import pad_sequences\n",
    "from keras.preprocessing.text import Tokenizer\n",
    "from nltk.corpus import stopwords\n",
    "from sklearn.model_selection import train_test_split\n",
    "from keras.callbacks import EarlyStopping"
   ]
  },
  {
   "cell_type": "code",
   "execution_count": 18,
   "id": "cc6bd10c",
   "metadata": {},
   "outputs": [],
   "source": [
    "pathfile = \"C:/Users/polin/Documents/IMT/Cours actuels/Projet ML/Sarcasm_Headlines_Dataset.json\"\n",
    "data = []\n",
    "for line in open(pathfile, 'r'):\n",
    "    data.append(json.loads(line))\n",
    "titres, sarcastique = [], []"
   ]
  },
  {
   "cell_type": "code",
   "execution_count": null,
   "id": "033c5255",
   "metadata": {},
   "outputs": [],
   "source": [
    "df=pd.DataFrame(data)\n",
    "del df[\"article_link\"]"
   ]
  },
  {
   "cell_type": "raw",
   "id": "32eaa102",
   "metadata": {},
   "source": [
    "Verifier les valeurs manquantes"
   ]
  },
  {
   "cell_type": "code",
   "execution_count": null,
   "id": "1274c26a",
   "metadata": {},
   "outputs": [],
   "source": [
    "df.isna().sum()"
   ]
  },
  {
   "cell_type": "raw",
   "id": "b4e98c7b",
   "metadata": {},
   "source": [
    "Compter les valeurs de la DataFrame, verifier la répartition équitable des valeurs"
   ]
  },
  {
   "cell_type": "code",
   "execution_count": 19,
   "id": "fdc580dd",
   "metadata": {},
   "outputs": [],
   "source": [
    "df['is_sarcastic'].value_counts()\n",
    "titres_train, titres_test, sarcastique_train, sarcastique_test =train_test_split(df[\"headline\"], df[\"is_sarcastic\"], test_size=0.33)\n",
    "\n",
    "df1=pd.DataFrame(titres_train)\n",
    "df1=df1.rename(columns={0:'headline'})\n",
    "\n",
    "df2=pd.DataFrame(sarcastique_train)\n",
    "df2=df2.rename(columns={0:'is_sarcastic'})\n",
    "df_train=pd.concat([df1,df2],axis=1)\n",
    "\n",
    "df3=pd.DataFrame(titres_test)\n",
    "df3=df3.rename(columns={0:'headline'})\n",
    "\n",
    "df4=pd.DataFrame(sarcastique_test)\n",
    "df4=df4.rename(columns={0:'is_sarcastic'})\n",
    "\n",
    "df_test=pd.concat([df3,df4],axis=1)"
   ]
  },
  {
   "cell_type": "code",
   "execution_count": 20,
   "id": "9f6de7ac",
   "metadata": {},
   "outputs": [
    {
     "name": "stdout",
     "output_type": "stream",
     "text": [
      "8814\n",
      "                                                headline  is_sarcastic\n",
      "26442         i was taught to be ashamed of my sexuality             0\n",
      "22724  j.d. vance: republican presidential nominee in...             0\n",
      "10330  the soul's ingredients: the secret to summonin...             0\n",
      "13266  losing-powerball-numbers announcement enters 1...             1\n",
      "5917    painting of jesus totally knows area man is high             1\n",
      "...                                                  ...           ...\n",
      "19035  want to be ready for retirement? lower your ex...             0\n",
      "14701  panicked studio delays 'man of steel' to get m...             1\n",
      "4337                        ebola, aids, and plague inc.             0\n",
      "1346   report: 250 million americans still need guest...             1\n",
      "9807   trump administration suddenly pulls plug on te...             0\n",
      "\n",
      "[17895 rows x 2 columns]\n"
     ]
    }
   ],
   "source": [
    "print(len(titres_test))\n",
    "print(df_train)"
   ]
  },
  {
   "cell_type": "raw",
   "id": "14ba5e74",
   "metadata": {},
   "source": [
    "Enlever la ponctuation"
   ]
  },
  {
   "cell_type": "code",
   "execution_count": 21,
   "id": "6f221767",
   "metadata": {},
   "outputs": [],
   "source": [
    "def remove_punctuation(text):\n",
    "    text=text.replace(\"\\'s\",\"\")\n",
    "    text=text.replace(\"\\'m\",\"\")\n",
    "    text=text.replace(\"\\'ve\",\"\")\n",
    "    text=text.replace(\"\\'\",\"\")\n",
    "    text=text.replace(\",\",\"\")\n",
    "    text=text.replace(\"-\",\" \")\n",
    "    text=text.replace(\":\",\"\")\n",
    "    text=text.replace(\".\",\"\")\n",
    "    text=text.replace(\";\",\"\")\n",
    "    text=text.replace(\"!\",\"\")\n",
    "    text=text.replace(\"?\",\"\")\n",
    "    return text\n",
    "\n",
    "df_train['headline']= df_train['headline'].apply(lambda x:remove_punctuation(x))\n",
    "df_test['headline']= df_test['headline'].apply(lambda x:remove_punctuation(x))"
   ]
  },
  {
   "cell_type": "code",
   "execution_count": 22,
   "id": "9d4322e8",
   "metadata": {},
   "outputs": [
    {
     "data": {
      "text/html": [
       "<div>\n",
       "<style scoped>\n",
       "    .dataframe tbody tr th:only-of-type {\n",
       "        vertical-align: middle;\n",
       "    }\n",
       "\n",
       "    .dataframe tbody tr th {\n",
       "        vertical-align: top;\n",
       "    }\n",
       "\n",
       "    .dataframe thead th {\n",
       "        text-align: right;\n",
       "    }\n",
       "</style>\n",
       "<table border=\"1\" class=\"dataframe\">\n",
       "  <thead>\n",
       "    <tr style=\"text-align: right;\">\n",
       "      <th></th>\n",
       "      <th>headline</th>\n",
       "      <th>is_sarcastic</th>\n",
       "    </tr>\n",
       "  </thead>\n",
       "  <tbody>\n",
       "    <tr>\n",
       "      <th>26442</th>\n",
       "      <td>i was taught to be ashamed of my sexuality</td>\n",
       "      <td>0</td>\n",
       "    </tr>\n",
       "    <tr>\n",
       "      <th>22724</th>\n",
       "      <td>jd vance republican presidential nominee in 2032</td>\n",
       "      <td>0</td>\n",
       "    </tr>\n",
       "    <tr>\n",
       "      <th>10330</th>\n",
       "      <td>the soul ingredients the secret to summoning y...</td>\n",
       "      <td>0</td>\n",
       "    </tr>\n",
       "    <tr>\n",
       "      <th>13266</th>\n",
       "      <td>losing powerball numbers announcement enters 1...</td>\n",
       "      <td>1</td>\n",
       "    </tr>\n",
       "    <tr>\n",
       "      <th>5917</th>\n",
       "      <td>painting of jesus totally knows area man is high</td>\n",
       "      <td>1</td>\n",
       "    </tr>\n",
       "    <tr>\n",
       "      <th>...</th>\n",
       "      <td>...</td>\n",
       "      <td>...</td>\n",
       "    </tr>\n",
       "    <tr>\n",
       "      <th>19035</th>\n",
       "      <td>want to be ready for retirement lower your exp...</td>\n",
       "      <td>0</td>\n",
       "    </tr>\n",
       "    <tr>\n",
       "      <th>14701</th>\n",
       "      <td>panicked studio delays an of steel to get more...</td>\n",
       "      <td>1</td>\n",
       "    </tr>\n",
       "    <tr>\n",
       "      <th>4337</th>\n",
       "      <td>ebola aids and plague inc</td>\n",
       "      <td>0</td>\n",
       "    </tr>\n",
       "    <tr>\n",
       "      <th>1346</th>\n",
       "      <td>report 250 million americans still need guests...</td>\n",
       "      <td>1</td>\n",
       "    </tr>\n",
       "    <tr>\n",
       "      <th>9807</th>\n",
       "      <td>trump administration suddenly pulls plug on te...</td>\n",
       "      <td>0</td>\n",
       "    </tr>\n",
       "  </tbody>\n",
       "</table>\n",
       "<p>17895 rows × 2 columns</p>\n",
       "</div>"
      ],
      "text/plain": [
       "                                                headline  is_sarcastic\n",
       "26442         i was taught to be ashamed of my sexuality             0\n",
       "22724   jd vance republican presidential nominee in 2032             0\n",
       "10330  the soul ingredients the secret to summoning y...             0\n",
       "13266  losing powerball numbers announcement enters 1...             1\n",
       "5917    painting of jesus totally knows area man is high             1\n",
       "...                                                  ...           ...\n",
       "19035  want to be ready for retirement lower your exp...             0\n",
       "14701  panicked studio delays an of steel to get more...             1\n",
       "4337                           ebola aids and plague inc             0\n",
       "1346   report 250 million americans still need guests...             1\n",
       "9807   trump administration suddenly pulls plug on te...             0\n",
       "\n",
       "[17895 rows x 2 columns]"
      ]
     },
     "execution_count": 22,
     "metadata": {},
     "output_type": "execute_result"
    }
   ],
   "source": [
    "df_train"
   ]
  },
  {
   "cell_type": "raw",
   "id": "77092924",
   "metadata": {},
   "source": [
    "Générer les ngrammes"
   ]
  },
  {
   "cell_type": "code",
   "execution_count": 23,
   "id": "6263c72d",
   "metadata": {},
   "outputs": [],
   "source": [
    "def generate_ngrams(text, ngram=1):\n",
    "    tokens=[\n",
    "        token for token in text.split(\" \") if token not in set(stopwords.words('english'))\n",
    "    ]\n",
    "    temp = zip(*[tokens[i:] for i in range(0, ngram)])\n",
    "    ans = [' '.join(ngram) for ngram in temp]\n",
    "    return ans"
   ]
  },
  {
   "cell_type": "code",
   "execution_count": 24,
   "id": "8b67a0a6",
   "metadata": {},
   "outputs": [],
   "source": [
    "df_train['headline']= df_train['headline'].apply(lambda x:generate_ngrams(x, 1))\n",
    "df_train=df_train.drop([], axis=0)\n",
    "df_test['headline']= df_test['headline'].apply(lambda x:generate_ngrams(x, 1))\n",
    "df_test=df_test.drop([], axis=0)\n"
   ]
  },
  {
   "cell_type": "code",
   "execution_count": 25,
   "id": "db3f1e2b",
   "metadata": {},
   "outputs": [
    {
     "data": {
      "text/html": [
       "<div>\n",
       "<style scoped>\n",
       "    .dataframe tbody tr th:only-of-type {\n",
       "        vertical-align: middle;\n",
       "    }\n",
       "\n",
       "    .dataframe tbody tr th {\n",
       "        vertical-align: top;\n",
       "    }\n",
       "\n",
       "    .dataframe thead th {\n",
       "        text-align: right;\n",
       "    }\n",
       "</style>\n",
       "<table border=\"1\" class=\"dataframe\">\n",
       "  <thead>\n",
       "    <tr style=\"text-align: right;\">\n",
       "      <th></th>\n",
       "      <th>headline</th>\n",
       "      <th>is_sarcastic</th>\n",
       "    </tr>\n",
       "  </thead>\n",
       "  <tbody>\n",
       "    <tr>\n",
       "      <th>26442</th>\n",
       "      <td>[taught, ashamed, sexuality]</td>\n",
       "      <td>0</td>\n",
       "    </tr>\n",
       "    <tr>\n",
       "      <th>22724</th>\n",
       "      <td>[jd, vance, republican, presidential, nominee,...</td>\n",
       "      <td>0</td>\n",
       "    </tr>\n",
       "    <tr>\n",
       "      <th>10330</th>\n",
       "      <td>[soul, ingredients, secret, summoning, soulmate]</td>\n",
       "      <td>0</td>\n",
       "    </tr>\n",
       "    <tr>\n",
       "      <th>13266</th>\n",
       "      <td>[losing, powerball, numbers, announcement, ent...</td>\n",
       "      <td>1</td>\n",
       "    </tr>\n",
       "    <tr>\n",
       "      <th>5917</th>\n",
       "      <td>[painting, jesus, totally, knows, area, man, h...</td>\n",
       "      <td>1</td>\n",
       "    </tr>\n",
       "    <tr>\n",
       "      <th>...</th>\n",
       "      <td>...</td>\n",
       "      <td>...</td>\n",
       "    </tr>\n",
       "    <tr>\n",
       "      <th>19035</th>\n",
       "      <td>[want, ready, retirement, lower, expectations]</td>\n",
       "      <td>0</td>\n",
       "    </tr>\n",
       "    <tr>\n",
       "      <th>14701</th>\n",
       "      <td>[panicked, studio, delays, steel, get, shots, ...</td>\n",
       "      <td>1</td>\n",
       "    </tr>\n",
       "    <tr>\n",
       "      <th>4337</th>\n",
       "      <td>[ebola, aids, plague, inc]</td>\n",
       "      <td>0</td>\n",
       "    </tr>\n",
       "    <tr>\n",
       "      <th>1346</th>\n",
       "      <td>[report, 250, million, americans, still, need,...</td>\n",
       "      <td>1</td>\n",
       "    </tr>\n",
       "    <tr>\n",
       "      <th>9807</th>\n",
       "      <td>[trump, administration, suddenly, pulls, plug,...</td>\n",
       "      <td>0</td>\n",
       "    </tr>\n",
       "  </tbody>\n",
       "</table>\n",
       "<p>17895 rows × 2 columns</p>\n",
       "</div>"
      ],
      "text/plain": [
       "                                                headline  is_sarcastic\n",
       "26442                       [taught, ashamed, sexuality]             0\n",
       "22724  [jd, vance, republican, presidential, nominee,...             0\n",
       "10330   [soul, ingredients, secret, summoning, soulmate]             0\n",
       "13266  [losing, powerball, numbers, announcement, ent...             1\n",
       "5917   [painting, jesus, totally, knows, area, man, h...             1\n",
       "...                                                  ...           ...\n",
       "19035     [want, ready, retirement, lower, expectations]             0\n",
       "14701  [panicked, studio, delays, steel, get, shots, ...             1\n",
       "4337                          [ebola, aids, plague, inc]             0\n",
       "1346   [report, 250, million, americans, still, need,...             1\n",
       "9807   [trump, administration, suddenly, pulls, plug,...             0\n",
       "\n",
       "[17895 rows x 2 columns]"
      ]
     },
     "execution_count": 25,
     "metadata": {},
     "output_type": "execute_result"
    }
   ],
   "source": [
    "df_train"
   ]
  },
  {
   "cell_type": "code",
   "execution_count": 26,
   "id": "1501bc36",
   "metadata": {},
   "outputs": [],
   "source": [
    "vocab_size = 10000\n",
    "embedding_dim = 16\n",
    "max_length = 100\n",
    "trunc_type='post'\n",
    "padding_type='post'"
   ]
  },
  {
   "cell_type": "code",
   "execution_count": 27,
   "id": "24ecd44a",
   "metadata": {},
   "outputs": [],
   "source": [
    "tokenizer=Tokenizer(num_words=vocab_size, oov_token=\"<OOV>\")\n",
    "tokenizer.fit_on_texts(df_train[\"headline\"])\n",
    "word_index= tokenizer.word_index\n",
    "sequences = tokenizer.texts_to_sequences(df_train[\"headline\"])\n",
    "padded_train = pad_sequences(sequences,maxlen=max_length, padding=padding_type, truncating=trunc_type)\n",
    "\n",
    "sequences2 = tokenizer.texts_to_sequences(df_test[\"headline\"])\n",
    "\n",
    "padded_test = pad_sequences(sequences2,maxlen=max_length, padding=padding_type, truncating=trunc_type)"
   ]
  },
  {
   "cell_type": "code",
   "execution_count": 28,
   "id": "546bd3f5",
   "metadata": {},
   "outputs": [
    {
     "data": {
      "text/plain": [
       "8814"
      ]
     },
     "execution_count": 28,
     "metadata": {},
     "output_type": "execute_result"
    }
   ],
   "source": [
    "len(df_test[\"headline\"])"
   ]
  },
  {
   "cell_type": "code",
   "execution_count": 29,
   "id": "ad75bfac",
   "metadata": {},
   "outputs": [
    {
     "name": "stdout",
     "output_type": "stream",
     "text": [
      "(17895, 100)\n",
      "(17895,)\n",
      "(8814, 100)\n",
      "(8814,)\n",
      "<class 'pandas.core.series.Series'>\n",
      "0\n"
     ]
    }
   ],
   "source": [
    "print(padded_train.shape)\n",
    "print(sarcastique_train.shape)\n",
    "print(padded_test.shape)\n",
    "print(sarcastique_test.shape)\n",
    "print(type(sarcastique_test))\n",
    "      \n",
    "print((sarcastique_test.iloc[63]))"
   ]
  },
  {
   "cell_type": "code",
   "execution_count": 30,
   "id": "e7da4c3c",
   "metadata": {},
   "outputs": [],
   "source": [
    "import numpy as np\n",
    "training_padded = np.array(padded_train)\n",
    "training_labels = np.array(df_train[\"is_sarcastic\"])\n",
    "testing_padded = np.array(padded_test)\n",
    "testing_labels = np.array(df_test[\"is_sarcastic\"])"
   ]
  },
  {
   "cell_type": "code",
   "execution_count": 37,
   "id": "f87067cf",
   "metadata": {
    "scrolled": true
   },
   "outputs": [
    {
     "name": "stdout",
     "output_type": "stream",
     "text": [
      "Epoch 1/35\n",
      "560/560 - 2s - loss: 0.6863 - accuracy: 0.5616 - val_loss: 0.6858 - val_accuracy: 0.5600\n",
      "Epoch 2/35\n",
      "560/560 - 1s - loss: 0.6853 - accuracy: 0.5616 - val_loss: 0.6850 - val_accuracy: 0.5600\n",
      "Epoch 3/35\n",
      "560/560 - 1s - loss: 0.6830 - accuracy: 0.5616 - val_loss: 0.6826 - val_accuracy: 0.5600\n",
      "Epoch 4/35\n",
      "560/560 - 1s - loss: 0.6782 - accuracy: 0.5656 - val_loss: 0.6710 - val_accuracy: 0.5612\n",
      "Epoch 5/35\n",
      "560/560 - 1s - loss: 0.6573 - accuracy: 0.6060 - val_loss: 0.6257 - val_accuracy: 0.6473\n",
      "Epoch 6/35\n",
      "560/560 - 1s - loss: 0.6033 - accuracy: 0.6734 - val_loss: 0.5593 - val_accuracy: 0.7394\n",
      "Epoch 7/35\n",
      "560/560 - 1s - loss: 0.5521 - accuracy: 0.7173 - val_loss: 0.5130 - val_accuracy: 0.7553\n",
      "Epoch 8/35\n",
      "560/560 - 1s - loss: 0.5217 - accuracy: 0.7323 - val_loss: 0.4894 - val_accuracy: 0.7744\n",
      "Epoch 9/35\n",
      "560/560 - 1s - loss: 0.5025 - accuracy: 0.7492 - val_loss: 0.4752 - val_accuracy: 0.7760\n",
      "Epoch 10/35\n",
      "560/560 - 1s - loss: 0.4837 - accuracy: 0.7589 - val_loss: 0.4724 - val_accuracy: 0.7758\n",
      "Epoch 11/35\n",
      "560/560 - 1s - loss: 0.4733 - accuracy: 0.7671 - val_loss: 0.4579 - val_accuracy: 0.7851\n",
      "Epoch 12/35\n",
      "560/560 - 1s - loss: 0.4584 - accuracy: 0.7693 - val_loss: 0.4520 - val_accuracy: 0.7861\n",
      "Epoch 13/35\n",
      "560/560 - 1s - loss: 0.4517 - accuracy: 0.7773 - val_loss: 0.4500 - val_accuracy: 0.7867\n",
      "Epoch 14/35\n",
      "560/560 - 1s - loss: 0.4467 - accuracy: 0.7762 - val_loss: 0.4446 - val_accuracy: 0.7926\n",
      "Epoch 15/35\n",
      "560/560 - 1s - loss: 0.4347 - accuracy: 0.7879 - val_loss: 0.4424 - val_accuracy: 0.7923\n",
      "Epoch 16/35\n",
      "560/560 - 1s - loss: 0.4296 - accuracy: 0.7889 - val_loss: 0.4495 - val_accuracy: 0.7850\n"
     ]
    }
   ],
   "source": [
    "model = tf.keras.Sequential([\n",
    "    tf.keras.layers.Embedding(vocab_size, embedding_dim, input_length=max_length),\n",
    "    tf.keras.layers.GlobalAveragePooling1D(),\n",
    "    tf.keras.layers.Dropout(0.9),\n",
    "    tf.keras.layers.Dense(20, activation='relu'),\n",
    "    tf.keras.layers.Dense(1, activation='sigmoid')])\n",
    "model.compile(loss=\"binary_crossentropy\",optimizer=\"adam\",metrics=[\"accuracy\"])\n",
    "es = EarlyStopping(monitor='val_loss', patience=1)\n",
    "num_epochs = 35\n",
    "#history = model.fit(training_padded, training_labels, epochs=num_epochs, validation_data=(testing_padded, testing_labels), verbose=2)\n",
    "#la ligne pour Early Stopping :\n",
    "history = model.fit(training_padded, training_labels, epochs=num_epochs, validation_data=(testing_padded, testing_labels), verbose=2, callbacks=[es])"
   ]
  },
  {
   "cell_type": "code",
   "execution_count": 38,
   "id": "c6934c84",
   "metadata": {
    "scrolled": true
   },
   "outputs": [
    {
     "data": {
      "image/png": "[encoded data removed]",
      "text/plain": [
       "<Figure size 432x288 with 1 Axes>"
      ]
     },
     "metadata": {
      "needs_background": "light"
     },
     "output_type": "display_data"
    },
    {
     "data": {
      "image/png": "[encoded data removed]",
      "text/plain": [
       "<Figure size 432x288 with 1 Axes>"
      ]
     },
     "metadata": {
      "needs_background": "light"
     },
     "output_type": "display_data"
    }
   ],
   "source": [
    "import matplotlib.pyplot as plt\n",
    "\n",
    "plt.plot(history.history['accuracy'])\n",
    "plt.plot(history.history['val_accuracy'])\n",
    "plt.title('Accuracy')\n",
    "plt.xlabel(\"Epochs\")\n",
    "plt.ylabel(\"Accuracy\")\n",
    "plt.legend([\"Train\", \"Validation\"])\n",
    "plt.show()\n",
    "\n",
    "\n",
    "plt.plot(history.history['loss'])\n",
    "plt.plot(history.history['val_loss'])\n",
    "plt.title('Loss')\n",
    "plt.xlabel(\"Epochs\")\n",
    "plt.ylabel('Loss')\n",
    "plt.legend([\"Train\", \"Validation\"])\n",
    "plt.show()\n"
   ]
  },
  {
   "cell_type": "raw",
   "id": "9d969858",
   "metadata": {},
   "source": [
    "Resultats : "
   ]
  },
  {
   "cell_type": "code",
   "execution_count": 39,
   "id": "95d2c49e",
   "metadata": {
    "scrolled": true
   },
   "outputs": [
    {
     "name": "stdout",
     "output_type": "stream",
     "text": [
      "[[0.40066284]\n",
      " [0.6256858 ]\n",
      " [0.79935575]\n",
      " [0.90956795]]\n"
     ]
    }
   ],
   "source": [
    "sentence = [\"You just saved my dog's life. Thanks a million.\", \n",
    "            \"You just broke my car window. Great job.\", \n",
    "            \"Hi I am Chandler Bing, I do sarcastic comment when I feel uncomfortable\", \n",
    "            \"I was depressed. He asked me to be happy. I am not depressed anymore.\"]\n",
    "sentence_ngram=[]\n",
    "sentence_clean=pd.DataFrame(sentence)\n",
    "sentence_clean=remove_punctuation(sentence_clean)\n",
    "sentence_ngram=sentence_clean[0].apply(lambda x:generate_ngrams(x, 1))\n",
    "sequences = tokenizer.texts_to_sequences(sentence_ngram)\n",
    "padded = pad_sequences(sequences, maxlen=max_length, padding=padding_type, truncating=trunc_type)\n",
    "print(model.predict(padded))"
   ]
  },
  {
   "cell_type": "markdown",
   "id": "b7b4d394",
   "metadata": {},
   "source": [
    "\n"
   ]
  },
  {
   "cell_type": "code",
   "execution_count": null,
   "id": "871bc3f1",
   "metadata": {},
   "outputs": [],
   "source": []
  },
  {
   "cell_type": "code",
   "execution_count": null,
   "id": "fe7712f7",
   "metadata": {},
   "outputs": [],
   "source": []
  }
 ],
 "metadata": {
  "kernelspec": {
   "display_name": "Python 3 (ipykernel)",
   "language": "python",
   "name": "python3"
  },
  "language_info": {
   "codemirror_mode": {
    "name": "ipython",
    "version": 3
   },
   "file_extension": ".py",
   "mimetype": "text/x-python",
   "name": "python",
   "nbconvert_exporter": "python",
   "pygments_lexer": "ipython3",
   "version": "3.8.8"
  }
 },
 "nbformat": 4,
 "nbformat_minor": 5
}
